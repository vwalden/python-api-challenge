{
 "cells": [
  {
   "cell_type": "code",
   "execution_count": 1,
   "id": "726fe916",
   "metadata": {},
   "outputs": [],
   "source": [
    "# API Key Test"
   ]
  },
  {
   "cell_type": "code",
   "execution_count": 2,
   "id": "465d6108",
   "metadata": {},
   "outputs": [],
   "source": [
    "# Dependencies\n",
    "import json\n",
    "import requests\n",
    "from api_keys import weather_api_key"
   ]
  },
  {
   "cell_type": "code",
   "execution_count": 3,
   "id": "6e3f4f65",
   "metadata": {},
   "outputs": [],
   "source": [
    "# Save config information\n",
    "url = \"http://api.openweathermap.org/data/2.5/weather?\"\n",
    "city = \"London\""
   ]
  },
  {
   "cell_type": "code",
   "execution_count": 10,
   "id": "aa4587ad",
   "metadata": {},
   "outputs": [
    {
     "data": {
      "text/plain": [
       "'http://api.openweathermap.org/data/2.5/weather?appid=ff9a06ef19d32546500a6a9dc3355d2e&q=London'"
      ]
     },
     "execution_count": 10,
     "metadata": {},
     "output_type": "execute_result"
    }
   ],
   "source": [
    "# Build query URL\n",
    "# city_url = url + \"appid=\" + weather_api_key + \"&q=\" + city\n",
    "\n",
    "# String formatting query_url\n",
    "city_url = f'{url}appid={weather_api_key}&q={city}'\n",
    "city_url"
   ]
  },
  {
   "cell_type": "code",
   "execution_count": 11,
   "id": "d1709dfd",
   "metadata": {},
   "outputs": [],
   "source": [
    "# Get weather data\n",
    "city_weather = requests.get(city_url)\n",
    "city_weather_json = city_weather.json()"
   ]
  },
  {
   "cell_type": "code",
   "execution_count": 12,
   "id": "b59452b1",
   "metadata": {},
   "outputs": [
    {
     "name": "stdout",
     "output_type": "stream",
     "text": [
      "The weather API responded with: {'coord': {'lon': -0.1257, 'lat': 51.5085}, 'weather': [{'id': 804, 'main': 'Clouds', 'description': 'overcast clouds', 'icon': '04d'}], 'base': 'stations', 'main': {'temp': 282.42, 'feels_like': 279.98, 'temp_min': 281.51, 'temp_max': 283.15, 'pressure': 1037, 'humidity': 74}, 'visibility': 10000, 'wind': {'speed': 4.63, 'deg': 270}, 'clouds': {'all': 100}, 'dt': 1675523222, 'sys': {'type': 2, 'id': 2075535, 'country': 'GB', 'sunrise': 1675496088, 'sunset': 1675529636}, 'timezone': 0, 'id': 2643743, 'name': 'London', 'cod': 200}\n"
     ]
    }
   ],
   "source": [
    "# Print JSON object legibly\n",
    "print(f\"The weather API responded with: {weather_json}\")"
   ]
  },
  {
   "cell_type": "code",
   "execution_count": 15,
   "id": "26ef085b",
   "metadata": {},
   "outputs": [
    {
     "data": {
      "text/plain": [
       "51.5085"
      ]
     },
     "execution_count": 15,
     "metadata": {},
     "output_type": "execute_result"
    }
   ],
   "source": [
    "city_lat = city_weather_json['coord']['lat']\n",
    "city_lat"
   ]
  },
  {
   "cell_type": "code",
   "execution_count": null,
   "id": "a2dd177b",
   "metadata": {},
   "outputs": [],
   "source": []
  }
 ],
 "metadata": {
  "kernelspec": {
   "display_name": "Python 3 (ipykernel)",
   "language": "python",
   "name": "python3"
  },
  "language_info": {
   "codemirror_mode": {
    "name": "ipython",
    "version": 3
   },
   "file_extension": ".py",
   "mimetype": "text/x-python",
   "name": "python",
   "nbconvert_exporter": "python",
   "pygments_lexer": "ipython3",
   "version": "3.7.15"
  }
 },
 "nbformat": 4,
 "nbformat_minor": 5
}
